{
  "nbformat": 4,
  "nbformat_minor": 0,
  "metadata": {
    "colab": {
      "provenance": [],
      "authorship_tag": "ABX9TyMOPkgPgo0I5j+dOm3njNxu",
      "include_colab_link": true
    },
    "kernelspec": {
      "name": "ir",
      "display_name": "R"
    },
    "language_info": {
      "name": "R"
    }
  },
  "cells": [
    {
      "cell_type": "markdown",
      "metadata": {
        "id": "view-in-github",
        "colab_type": "text"
      },
      "source": [
        "<a href=\"https://colab.research.google.com/github/kazuma2002/kazuma2002/blob/main/R_analysis_cheatsheet_231001.ipynb\" target=\"_parent\"><img src=\"https://colab.research.google.com/assets/colab-badge.svg\" alt=\"Open In Colab\"/></a>"
      ]
    },
    {
      "cell_type": "markdown",
      "source": [
        "# 注意:\n",
        "##  Google ColaboratoryでRを使用するためには、”ランタイム”の欄から”ランタイムのタイプを変更”をクリックして、”Python”となっている欄を”R”に変更してください\n",
        "##  SEMの実行にはlavaanパッケージが必要です。install.packages(\"lavaan\")でインストールできます"
      ],
      "metadata": {
        "id": "bpXxqAzKMQcB"
      }
    },
    {
      "cell_type": "markdown",
      "source": [
        "## **Rの基本操作**"
      ],
      "metadata": {
        "id": "Ih8JUDrgLwj1"
      }
    },
    {
      "cell_type": "code",
      "execution_count": null,
      "metadata": {
        "id": "ovIEoO2zLKGX"
      },
      "outputs": [],
      "source": [
        "# パッケージのインストール\n",
        "install.packages(\"sample_package\") #Rのパッケージをインストール\n",
        "\n",
        "# パッケージの読み込み\n",
        "library(sample_package) #インストールしたパッケージを読み込む\n",
        "\n",
        "# データの読み込み\n",
        "data <- read.csv(\"sample_data.csv\") #CSVファイルからデータを読み込む\n",
        "\n",
        "# データの表示\n",
        "head(data) #データの最初の6行を表示\n",
        "\n",
        "# データの概要\n",
        "summary(data) #データの概要を表示\n",
        "\n",
        "# データの型の確認\n",
        "str(data) #データの構造を表示\n",
        "names(data)\n",
        "dim(data)\n",
        "\n",
        "# 列の選択\n",
        "data$column_name #特定の列を選択\n",
        "\n",
        "# 行の選択\n",
        "data[row_number,] #特定の行を選択\n",
        "\n",
        "# 基本的な統計量\n",
        "mean(data$column_name) #平均を計算\n",
        "sd(data$column_name) #標準偏差を計算\n",
        "\n",
        "# 基本的な計算\n",
        "a + b #足し算\n",
        "a - b #引き算\n",
        "a * b #掛け算\n",
        "a / b #割り算\n",
        "a ^ b #累乗\n",
        "a %% b #あまり\n",
        "a %/% b  #あまり切り落とし割り算"
      ]
    },
    {
      "cell_type": "markdown",
      "source": [
        "## **多重回帰、主成分分析、SEM**"
      ],
      "metadata": {
        "id": "okDeT4WuMIcW"
      }
    },
    {
      "cell_type": "code",
      "source": [
        "# 多重回帰分析\n",
        "model <- lm(y ~ x1 + x2, data=data) #多重回帰モデルをフィット\n",
        "summary(model) #モデルの要約を表示\n",
        "predict(model, newdata=new_data) #新しいデータに対する予測を行う\n",
        "\n",
        "# 主成分分析\n",
        "pca_result <- prcomp(data, scale.=TRUE) #主成分分析を実行\n",
        "summary(pca_result) #主成分分析の結果を表示\n",
        "biplot(pca_result)\n",
        "\n",
        "# 構造方程式モデリング (SEM)\n",
        "library(lavaan)  # lavaanパッケージを読み込む\n",
        "sem_model <- sem(model_syntax, data=data) #構造方程式モデリングを実行（lavaanパッケージを使用）\n",
        "summary(sem_model) #SEMモデルの要約を表示"
      ],
      "metadata": {
        "id": "wc-L58RpMF5f"
      },
      "execution_count": null,
      "outputs": []
    }
  ]
}